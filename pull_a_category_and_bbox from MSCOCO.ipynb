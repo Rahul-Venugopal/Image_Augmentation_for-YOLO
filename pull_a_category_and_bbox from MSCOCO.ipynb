{
 "cells": [
  {
   "cell_type": "markdown",
   "metadata": {},
   "source": [
    "To extract bbox for a category (here we use backpack as an example). This ipython file is present in the PythonAPI folder inside coco api tool."
   ]
  },
  {
   "cell_type": "code",
   "execution_count": 11,
   "metadata": {},
   "outputs": [],
   "source": [
    "%matplotlib inline\n",
    "from pycocotools.coco import COCO           # \n",
    "import numpy as np\n",
    "import skimage.io as io\n",
    "import matplotlib.pyplot as plt\n",
    "import pylab\n",
    "pylab.rcParams['figure.figsize'] = (8.0, 10.0)"
   ]
  },
  {
   "cell_type": "markdown",
   "metadata": {},
   "source": [
    "Set location of annotation file "
   ]
  },
  {
   "cell_type": "code",
   "execution_count": 12,
   "metadata": {},
   "outputs": [
    {
     "name": "stdout",
     "output_type": "stream",
     "text": [
      "..\n",
      "../annotations/instances_train2014.json\n"
     ]
    }
   ],
   "source": [
    "dataDir='..'\n",
    "print(dataDir)\n",
    "dataType='train2014'\n",
    "annFile='{}/annotations/instances_{}.json'.format(dataDir,dataType)\n",
    "print(annFile)"
   ]
  },
  {
   "cell_type": "code",
   "execution_count": 13,
   "metadata": {},
   "outputs": [
    {
     "name": "stdout",
     "output_type": "stream",
     "text": [
      "loading annotations into memory...\n",
      "Done (t=9.73s)\n",
      "creating index...\n",
      "index created!\n",
      "<pycocotools.coco.COCO object at 0x7f8865d34518>\n"
     ]
    }
   ],
   "source": [
    "# initialize COCO api for instance annotations\n",
    "coco=COCO(annFile)\n",
    "print(coco)"
   ]
  },
  {
   "cell_type": "markdown",
   "metadata": {},
   "source": [
    "*********Extract category id from category name"
   ]
  },
  {
   "cell_type": "code",
   "execution_count": 43,
   "metadata": {},
   "outputs": [
    {
     "name": "stdout",
     "output_type": "stream",
     "text": [
      "[27]\n"
     ]
    }
   ],
   "source": [
    "catIds = coco.getCatIds(catNms=['backpack']);\n",
    "print(catIds)\n"
   ]
  },
  {
   "cell_type": "markdown",
   "metadata": {},
   "source": [
    "To extract all images that have the category ('backpack')"
   ]
  },
  {
   "cell_type": "code",
   "execution_count": 44,
   "metadata": {},
   "outputs": [
    {
     "name": "stdout",
     "output_type": "stream",
     "text": [
      "Number images containing backpack is 3924\n"
     ]
    }
   ],
   "source": [
    "imgIds = coco.getImgIds(catIds=catIds );\n",
    "print(\"Number images containing backpack is %s\"%len(imgIds))"
   ]
  },
  {
   "cell_type": "markdown",
   "metadata": {},
   "source": [
    "# to extract bbox of \"backpacks\" present in all images"
   ]
  },
  {
   "cell_type": "code",
   "execution_count": 45,
   "metadata": {},
   "outputs": [
    {
     "name": "stdout",
     "output_type": "stream",
     "text": [
      "8193\n",
      "height is 449\n",
      "image width is 640\n",
      "[212.7, 88.19, 148.27, 112.03]\n",
      "262146\n",
      "height is 640\n",
      "image width is 480\n",
      "[267.35, 268.44, 79.89, 56.31]\n"
     ]
    }
   ],
   "source": [
    "for imgId in imgIds[:2]:               #loop through all images in one category\n",
    "    print(imgId)\n",
    "    img = coco.loadImgs(imgId)[0]      #to extract all the informations of an image\n",
    "    #print(img)\n",
    "    img_height = img['height']\n",
    "    print(\"height is %s\" %img_height)\n",
    "    img_width =  img['width']\n",
    "    print(\"image width is %s\"%img_width)\n",
    "    annIds = coco.getAnnIds(imgId, catIds=catIds, iscrowd=None)  #extract all the annotations for the category backpack\n",
    "    #print(annIds)\n",
    "    anns = coco.loadAnns(annIds)\n",
    "    #print(anns)\n",
    "    for ann in anns: #loop through each annotation \n",
    "        bbox_is = ann['bbox']\n",
    "        print(bbox_is)"
   ]
  },
  {
   "cell_type": "code",
   "execution_count": null,
   "metadata": {},
   "outputs": [],
   "source": []
  },
  {
   "cell_type": "code",
   "execution_count": null,
   "metadata": {},
   "outputs": [],
   "source": []
  },
  {
   "cell_type": "code",
   "execution_count": null,
   "metadata": {},
   "outputs": [],
   "source": []
  },
  {
   "cell_type": "code",
   "execution_count": null,
   "metadata": {},
   "outputs": [],
   "source": []
  },
  {
   "cell_type": "code",
   "execution_count": null,
   "metadata": {},
   "outputs": [],
   "source": []
  },
  {
   "cell_type": "code",
   "execution_count": null,
   "metadata": {},
   "outputs": [],
   "source": []
  },
  {
   "cell_type": "code",
   "execution_count": null,
   "metadata": {},
   "outputs": [],
   "source": []
  },
  {
   "cell_type": "code",
   "execution_count": null,
   "metadata": {},
   "outputs": [],
   "source": []
  }
 ],
 "metadata": {
  "kernelspec": {
   "display_name": "yolov3",
   "language": "python",
   "name": "yolov3"
  },
  "language_info": {
   "codemirror_mode": {
    "name": "ipython",
    "version": 3
   },
   "file_extension": ".py",
   "mimetype": "text/x-python",
   "name": "python",
   "nbconvert_exporter": "python",
   "pygments_lexer": "ipython3",
   "version": "3.5.2"
  }
 },
 "nbformat": 4,
 "nbformat_minor": 2
}
