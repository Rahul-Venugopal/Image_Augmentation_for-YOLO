{
 "cells": [
  {
   "cell_type": "code",
   "execution_count": 1,
   "metadata": {},
   "outputs": [],
   "source": [
    "import xml.etree.ElementTree as ET\n",
    "# import pickle\n",
    "import os\n",
    "from os import listdir, getcwd\n",
    "from os.path import join\n"
   ]
  },
  {
   "cell_type": "markdown",
   "metadata": {},
   "source": [
    "# Define paths"
   ]
  },
  {
   "cell_type": "code",
   "execution_count": 2,
   "metadata": {},
   "outputs": [
    {
     "name": "stdout",
     "output_type": "stream",
     "text": [
      "current directory is   /home/rahul/ActiveShuttle/image_processing\n",
      "Please put all the annotations in imagenet format in /home/rahul/ActiveShuttle/image_processing/Annotation/carton/ \n",
      "labels in darknet format will be generated in current directory/labels\n"
     ]
    }
   ],
   "source": [
    "cwd = os.getcwd()\n",
    "print(\"current directory is   %s\"%(cwd))\n",
    "img_with_bb_dir = \"/home/rahul/ActiveShuttle/AGV_Dataset/carton/with_bb/\"# where mages with bb are \n",
    "img_with_bb_list_dir = \"/home/rahul/ActiveShuttle/AGV_Dataset/carton/\"  #where to create image list for valid images \n",
    "img_with_bb_list_file = img_with_bb_list_dir + 'image_with_bb_set.txt' #imageset for converting bb format\n",
    "annotation_imgnet_dir = \"/home/rahul/ActiveShuttle/image_processing/Annotation/carton/\"\n",
    "print(\"Please put all the annotations in imagenet format in %s \" %annotation_imgnet_dir )\n",
    "print(\"labels in darknet format will be generated in current directory/labels\")"
   ]
  },
  {
   "cell_type": "markdown",
   "metadata": {},
   "source": [
    "# Create list of images with bounding box"
   ]
  },
  {
   "cell_type": "code",
   "execution_count": 3,
   "metadata": {},
   "outputs": [
    {
     "name": "stdout",
     "output_type": "stream",
     "text": [
      "Number of images with bounding box is : 281\n"
     ]
    }
   ],
   "source": [
    "img_with_bb_list = open(img_with_bb_list_file, 'w')\n",
    "i=0\n",
    "for file in os.listdir(img_with_bb_dir):\n",
    "    #print(file)\n",
    "    try:\n",
    "        i = i+1\n",
    "        img_with_bb_list.write('%s\\n'%(file))\n",
    "        #print(\"%s%s\"%(file,i))\n",
    "    except :\n",
    "            print(\"error moving file\")\n",
    "            \n",
    "img_with_bb_list.close()\n",
    "#img_list = open(img_list_file, 'r')\n",
    "#print(img_list.read())\n",
    "print(\"Number of images with bounding box is : %s\"%i)"
   ]
  },
  {
   "cell_type": "code",
   "execution_count": null,
   "metadata": {},
   "outputs": [],
   "source": []
  },
  {
   "cell_type": "code",
   "execution_count": null,
   "metadata": {},
   "outputs": [],
   "source": []
  },
  {
   "cell_type": "code",
   "execution_count": null,
   "metadata": {},
   "outputs": [],
   "source": []
  },
  {
   "cell_type": "code",
   "execution_count": null,
   "metadata": {},
   "outputs": [],
   "source": []
  },
  {
   "cell_type": "code",
   "execution_count": 4,
   "metadata": {},
   "outputs": [
    {
     "name": "stdout",
     "output_type": "stream",
     "text": [
      "Please change the class number according to the above list\n"
     ]
    }
   ],
   "source": [
    "#classes = [\"person 0\" , \"forklift 1\" ,\"carton 2\"]\n",
    "\n",
    "\n",
    "def convert(size, box):\n",
    "    dw = 1. / size[0]\n",
    "    dh = 1. / size[1]\n",
    "    x = (box[0] + box[1]) / 2.0\n",
    "    y = (box[2] + box[3]) / 2.0\n",
    "    w = box[1] - box[0]\n",
    "    h = box[3] - box[2]\n",
    "    x = x * dw\n",
    "    w = w * dw\n",
    "    y = y * dh\n",
    "    h = h * dh\n",
    "    return (x, y, w, h)\n",
    "\n",
    "print(\"Please change the class number according to the above list\")"
   ]
  },
  {
   "cell_type": "code",
   "execution_count": 5,
   "metadata": {},
   "outputs": [],
   "source": [
    "def convert_annotation(image_id):\n",
    "    in_file = open('%s%s.xml' % (annotation_imgnet_dir,image_id))\n",
    "    out_file = open('labels/%s.txt' % (image_id), 'w')\n",
    "    tree = ET.parse(in_file)\n",
    "    root = tree.getroot()\n",
    "    size = root.find('size')\n",
    "    w = int(size.find('width').text)\n",
    "    h = int(size.find('height').text)\n",
    "\n",
    "    objs = root.findall('object')\n",
    "    num_objs = len(objs)\n",
    "    #print (len(objs))\n",
    "    # Load object bounding boxes into a data frame.\n",
    "    for ix, obj in enumerate(objs):\n",
    "        #print (obj)\n",
    "        bndbox = obj.find('bndbox')\n",
    "        #print (bndbox)\n",
    "        x1 = float(bndbox[0].text)\n",
    "        y1 = float(bndbox[1].text)\n",
    "        x2 = float(bndbox[2].text)\n",
    "        y2 = float(bndbox[3].text)\n",
    "        b = (x1, x2, y1, y2)\n",
    "        bb = convert((w, h), b)\n",
    "        out_file.write(\"2\" + \" \" + \" \".join([str(a) for a in bb]) + '\\n')  # 0 represents which class \n",
    "\n",
    "wd = getcwd()"
   ]
  },
  {
   "cell_type": "code",
   "execution_count": 6,
   "metadata": {},
   "outputs": [
    {
     "name": "stdout",
     "output_type": "stream",
     "text": [
      "Tatal number of bounding box file created are : \n",
      " 281\n"
     ]
    }
   ],
   "source": [
    "if not os.path.exists('labels'):\n",
    "    os.makedirs('labels/')\n",
    "image_with_bb_ids = open(img_with_bb_list_file).read().strip().split()\n",
    "#print(image_with_bb_ids)\n",
    "converted_list_file = open('train_test.txt', 'w')\n",
    "for image_with_bb_id in image_with_bb_ids:\n",
    "    converted_list_file.write('%s/images/%s\\n'%(wd, image_with_bb_id))\n",
    "    convert_annotation(image_with_bb_id.replace(\".jpg\",\"\"))\n",
    "converted_list_file.close()\n",
    "n_bb_files = len(open(\"train_test.txt\").read().strip().split())\n",
    "print(\"Tatal number of bounding box file created are : \\n %s\" %n_bb_files)\n"
   ]
  },
  {
   "cell_type": "markdown",
   "metadata": {},
   "source": [
    "# End of this section : Bounding box in yolo format created"
   ]
  },
  {
   "cell_type": "markdown",
   "metadata": {},
   "source": [
    "Tests"
   ]
  },
  {
   "cell_type": "code",
   "execution_count": null,
   "metadata": {},
   "outputs": [],
   "source": [
    "image_ids = open('imageset.txt').read().strip().split()\n",
    "print(image_ids)\n",
    "#list_file = open('train_test.txt', 'w')\n",
    "for image_id in image_ids:\n",
    "    #list_file.write('%s/images/%s.JPEG\\n'%(wd, image_id))\n",
    "    #convert_annotation(image_id)\n",
    "    print(image_id.replace(\".jpg\",\"\"))"
   ]
  }
 ],
 "metadata": {
  "kernelspec": {
   "display_name": "yolov3",
   "language": "python",
   "name": "yolov3"
  },
  "language_info": {
   "codemirror_mode": {
    "name": "ipython",
    "version": 3
   },
   "file_extension": ".py",
   "mimetype": "text/x-python",
   "name": "python",
   "nbconvert_exporter": "python",
   "pygments_lexer": "ipython3",
   "version": "3.5.2"
  }
 },
 "nbformat": 4,
 "nbformat_minor": 2
}
